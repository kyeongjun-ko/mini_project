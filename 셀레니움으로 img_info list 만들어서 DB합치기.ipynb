{
 "cells": [
  {
   "cell_type": "code",
   "execution_count": 9,
   "id": "cb64faea",
   "metadata": {},
   "outputs": [],
   "source": [
    "from selenium import webdriver\n",
    "from selenium.webdriver.common.alert import Alert\n",
    "from selenium.webdriver.support.ui import WebDriverWait\n",
    "from selenium.webdriver.support import expected_conditions as EC\n",
    "from urllib.request import Request, urlopen\n",
    "from bs4 import BeautifulSoup\n",
    "import pandas as pd\n",
    "import time\n",
    "import json\n",
    "import requests\n",
    "import MySQLdb\n",
    "from sqlalchemy import create_engine\n",
    "import pymysql\n",
    "import os,re # 파이썬 내장모듈 os, re\n",
    "from urllib.request import urlretrieve\n",
    "from PIL import Image\n",
    "import cv2"
   ]
  },
  {
   "cell_type": "code",
   "execution_count": 10,
   "id": "d5385715",
   "metadata": {},
   "outputs": [
    {
     "name": "stderr",
     "output_type": "stream",
     "text": [
      "C:\\Users\\BIT\\AppData\\Local\\Temp/ipykernel_664/2662954128.py:9: DeprecationWarning: executable_path has been deprecated, please pass in a Service object\n",
      "  browser = webdriver.Chrome(driver_path, chrome_options = chrome_options)\n",
      "C:\\Users\\BIT\\AppData\\Local\\Temp/ipykernel_664/2662954128.py:9: DeprecationWarning: use options instead of chrome_options\n",
      "  browser = webdriver.Chrome(driver_path, chrome_options = chrome_options)\n"
     ]
    },
    {
     "name": "stdout",
     "output_type": "stream",
     "text": [
      "url 정상 추출 코드 : 200\n",
      "\n",
      "url 정상 추출 코드 : 200\n",
      "\n",
      "url 정상 추출 코드 : 200\n",
      "\n",
      "url 정상 추출 코드 : 200\n",
      "\n",
      "url 정상 추출 코드 : 200\n",
      "\n",
      "url 정상 추출 코드 : 200\n",
      "\n",
      "url 정상 추출 코드 : 200\n",
      "\n"
     ]
    },
    {
     "ename": "NameError",
     "evalue": "name 'img_src2' is not defined",
     "output_type": "error",
     "traceback": [
      "\u001b[1;31m---------------------------------------------------------------------------\u001b[0m",
      "\u001b[1;31mNameError\u001b[0m                                 Traceback (most recent call last)",
      "\u001b[1;32m~\\AppData\\Local\\Temp/ipykernel_664/2662954128.py\u001b[0m in \u001b[0;36m<module>\u001b[1;34m\u001b[0m\n\u001b[0;32m     61\u001b[0m         \u001b[1;34m\"img_url\"\u001b[0m\u001b[1;33m:\u001b[0m \u001b[0murl2\u001b[0m \u001b[1;33m,\u001b[0m\u001b[1;33m\u001b[0m\u001b[1;33m\u001b[0m\u001b[0m\n\u001b[0;32m     62\u001b[0m         \u001b[1;34m\"img_title\"\u001b[0m\u001b[1;33m:\u001b[0m\u001b[0mstore_name\u001b[0m\u001b[1;33m[\u001b[0m\u001b[1;36m0\u001b[0m\u001b[1;33m]\u001b[0m\u001b[1;33m.\u001b[0m\u001b[0mtext\u001b[0m\u001b[1;33m,\u001b[0m\u001b[1;33m\u001b[0m\u001b[1;33m\u001b[0m\u001b[0m\n\u001b[1;32m---> 63\u001b[1;33m         \u001b[1;34m\"img_src\"\u001b[0m \u001b[1;33m:\u001b[0m \u001b[0mimg_src2\u001b[0m\u001b[1;33m\u001b[0m\u001b[1;33m\u001b[0m\u001b[0m\n\u001b[0m\u001b[0;32m     64\u001b[0m             })\n\u001b[0;32m     65\u001b[0m \u001b[1;33m\u001b[0m\u001b[0m\n",
      "\u001b[1;31mNameError\u001b[0m: name 'img_src2' is not defined"
     ]
    }
   ],
   "source": [
    "# 3월 4일 데이터베이스에 url 바로 받을수있는 주소입력하기\n",
    "# image url이 없는 정보에서는 default image url입력하기\n",
    "\n",
    "driver_path = \"C:\\chromedriver_win32/chromedriver.exe\"\n",
    "\n",
    "chrome_options = webdriver.ChromeOptions()\n",
    "chrome_options.add_argument('--incognito')\n",
    "\n",
    "browser = webdriver.Chrome(driver_path, chrome_options = chrome_options)\n",
    "results=[]\n",
    "\n",
    "for i in range (1006, 1010):\n",
    "    url=\"https://선한영향력가게.com/store/view?idx=\"\n",
    "    browser.get(url+str(i))\n",
    "    \n",
    "    try:\n",
    "        WebDriverWait (browser, 2).until(EC.alert_is_present())\n",
    "        alert= browser.switch_to.alert\n",
    "        alert.accept()     \n",
    "    except:\n",
    "        # 403Error 방지: url접근변수 설정\n",
    "        current_url = browser.current_url\n",
    "        headers = {'User-Agent':'Mozilla/5.0'}\n",
    "        req = Request(current_url, headers = headers)\n",
    "\n",
    "        # http source 추출을 위한 변수설정\n",
    "        html = urlopen(req)\n",
    "        source = html.read().decode(\"utf-8\")\n",
    "        code = html.getcode()\n",
    "\n",
    "        # http 출력로직\n",
    "        if code == 200 :\n",
    "            print(\"url 정상 추출 코드 : 200\\n\")\n",
    "        else :\n",
    "            print(\"HTTP-Error\")\n",
    "\n",
    "        # html을 dom화 하여서 객체화\n",
    "        soup = BeautifulSoup(source)\n",
    "        \n",
    "         # 이미지 정보가 담겨있는 태그수\n",
    "        img_url = soup.select(\"div.swiper-wrapper\")\n",
    "        stores = soup.select(\"div.store-desc\")\n",
    "        \n",
    "        url1 = current_url\n",
    "        url2 = url1[url1.rfind('=')+1:]\n",
    "\n",
    "        for name in stores:\n",
    "            store_name = name.select(\"em.underline\")\n",
    "\n",
    "        eq=r'\\(([^)]+)'   \n",
    "        img_src2 = \"\"\n",
    "        for img in img_url:\n",
    "            img_src =img.select(\"div.swiper-slide\")[0][\"style\"]\n",
    "            img_src1 = re.findall(eq,img_src)[0]\n",
    "            img_src2 = \"https://xn--o39akkz01az4ip7f4xzwoa.com/\"+img_src1\n",
    "            \n",
    "            if len(img_src) == 0:\n",
    "                img_src2 = \"\"\n",
    "  \n",
    "    #img_src2= re.findall(eq,img_src)[0][12:str.rfind('/')]\n",
    "    \n",
    "    results.append({\n",
    "        \"img_url\": url2 ,\n",
    "        \"img_title\":store_name[0].text,\n",
    "        \"img_src\" : img_src2\n",
    "            })\n",
    "    \n",
    "    # del img_src\n",
    "    # del img_src1\n",
    "    # del img_src2\n",
    "    # del store_name\n",
    "    \n",
    "print(results)"
   ]
  },
  {
   "cell_type": "code",
   "execution_count": null,
   "id": "546dc4b2",
   "metadata": {},
   "outputs": [],
   "source": [
    "df=pd.DataFrame(results)\n",
    "df.to_csv(\"C:\\/mini_project/img_info.csv\", index=False)"
   ]
  }
 ],
 "metadata": {
  "interpreter": {
   "hash": "b0f89b998fd18b9cc8239744357397faef1df825b52530164cae31e815c12564"
  },
  "kernelspec": {
   "display_name": "mini_project",
   "language": "python",
   "name": "python3"
  },
  "language_info": {
   "codemirror_mode": {
    "name": "ipython",
    "version": 3
   },
   "file_extension": ".py",
   "mimetype": "text/x-python",
   "name": "python",
   "nbconvert_exporter": "python",
   "pygments_lexer": "ipython3",
   "version": "3.9.7"
  }
 },
 "nbformat": 4,
 "nbformat_minor": 5
}
